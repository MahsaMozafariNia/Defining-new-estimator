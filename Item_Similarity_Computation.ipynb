{
 "cells": [
  {
   "cell_type": "markdown",
   "id": "40463741",
   "metadata": {},
   "source": [
    "#pip install import_ipynb"
   ]
  },
  {
   "cell_type": "code",
   "execution_count": 6,
   "id": "39004206",
   "metadata": {
    "scrolled": true
   },
   "outputs": [],
   "source": [
    "import pandas as pd\n",
    "import numpy as np\n",
    "from numpy.linalg import norm\n",
    "\n",
    "\n",
    "class Similarity:\n",
    "    \n",
    "    #I want to define three different similarity functions\n",
    "    \n",
    "    \n",
    "    \n",
    "    def sim (metric,X):\n",
    "        #X is the user-movie pivot matrix\n",
    "        if str(metric)==str('cosine'):\n",
    "            d1= X.dot( X.T)\n",
    "            data_norm=pd.DataFrame(columns=['norm'],index=X.index)\n",
    "            for i in X.index:\n",
    "                x=norm(X.loc[i,:],2)\n",
    "                data_norm.loc[i,'norm']=x\n",
    "            d2=data_norm.dot(data_norm.T)\n",
    "            s=d1.div(d2)\n",
    "            \n",
    "        if str(metric)==str('corrolation'):\n",
    "\n",
    "            mean_matrix=pd.DataFrame(index=X.index.values.tolist(),columns=X.columns.values.tolist())\n",
    "            for i in  range(X.shape[1]):\n",
    "                   mean_matrix.iloc[:,i]=X.iloc[:,i].mean()\n",
    "            d1=(X-mean_matrix).T.dot(X-mean_matrix)\n",
    "            vector=np.ones(len(X.index)).reshape(1,len(X.index))                         \n",
    "            sqr=np.sqrt(vector.dot((X-mean_matrix)*(X-mean_matrix)))\n",
    "            d2=sqr.T.dot(sqr)\n",
    "            s=d1/d2\n",
    "\n",
    "                                     \n",
    "        if str(metric)==str('Adjusted'):\n",
    "                                     \n",
    "            mean_matrix=pd.DataFrame(index=X.index.values.tolist(),columns=X.columns.values.tolist())\n",
    "            for i in range(X.shape[0]):\n",
    "                mean_matrix.iloc[i,:]=X.iloc[i,:].mean()\n",
    "            d1=(X-mean_matrix).T.dot(X-mean_matrix)\n",
    "            vector=np.ones(len(X.index)).reshape(1,len(X.index))   \n",
    "            sqr=np.sqrt(vector.dot(((X-mean_matrix)*(X-mean_matrix)).astype(int)))\n",
    "            d2=sqr.T.dot(sqr)\n",
    "            s=d1/d2\n",
    "                                              \n",
    "        return s\n",
    "            "
   ]
  },
  {
   "cell_type": "code",
   "execution_count": null,
   "id": "bf918459",
   "metadata": {},
   "outputs": [],
   "source": []
  }
 ],
 "metadata": {
  "kernelspec": {
   "display_name": "Python 3 (ipykernel)",
   "language": "python",
   "name": "python3"
  },
  "language_info": {
   "codemirror_mode": {
    "name": "ipython",
    "version": 3
   },
   "file_extension": ".py",
   "mimetype": "text/x-python",
   "name": "python",
   "nbconvert_exporter": "python",
   "pygments_lexer": "ipython3",
   "version": "3.9.7"
  }
 },
 "nbformat": 4,
 "nbformat_minor": 5
}
