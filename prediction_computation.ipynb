{
 "cells": [
  {
   "cell_type": "code",
   "execution_count": 5,
   "id": "3ea46e59",
   "metadata": {},
   "outputs": [],
   "source": [
    "#here we need a method to use for prediction. By weighted sum we can see what is the predicted score user i will give to item j.\n",
    "\n",
    "import numpy as np\n",
    "import pandas as pd\n",
    "\n",
    "class prediction_compute():\n",
    "    \n",
    "    def pre_model (pred,X1,X2):\n",
    "        \n",
    "        if pred=='weighted_sum':\n",
    "        \n",
    "            vector=np.ones(len(X2.index))\n",
    "            vector=vector.reshape(1,len(X2.index))\n",
    "\n",
    "            #(X1!=0)\n",
    "            return (X1.dot(X2) / vector.dot(X2.abs()))\n",
    "        \n",
    "        \n",
    "    #def regression ()\n",
    "    # I did not get the regression part in the paper."
   ]
  },
  {
   "cell_type": "code",
   "execution_count": null,
   "id": "8b71bb11",
   "metadata": {},
   "outputs": [],
   "source": []
  }
 ],
 "metadata": {
  "kernelspec": {
   "display_name": "Python 3 (ipykernel)",
   "language": "python",
   "name": "python3"
  },
  "language_info": {
   "codemirror_mode": {
    "name": "ipython",
    "version": 3
   },
   "file_extension": ".py",
   "mimetype": "text/x-python",
   "name": "python",
   "nbconvert_exporter": "python",
   "pygments_lexer": "ipython3",
   "version": "3.9.7"
  }
 },
 "nbformat": 4,
 "nbformat_minor": 5
}
