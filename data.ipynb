{
 "cells": [
  {
   "cell_type": "markdown",
   "id": "1eae96c3",
   "metadata": {},
   "source": [
    "The Output of this fale is the data and its pivot"
   ]
  },
  {
   "cell_type": "code",
   "execution_count": 2,
   "id": "9269d904",
   "metadata": {},
   "outputs": [],
   "source": [
    "\n",
    "import numpy as np\n",
    "import pandas as pd\n",
    "from sklearn.model_selection import train_test_split\n",
    "import random\n",
    "\n",
    "movies=pd.read_csv('C:/Users/hp/Downloads/movies.csv')\n",
    "list=random.sample(np.unique(movies['movieId']).tolist(),k=1620)\n",
    "movies=movies[movies['movieId'].isin (list)]\n",
    "ratings=pd.read_csv('C:/Users/hp/Downloads/ratings.csv')\n",
    "\n",
    "    \n",
    "class dataframe:\n",
    "    \n",
    "    def dataset():\n",
    "        \n",
    "        data=pd.merge(ratings,movies,on='movieId')\n",
    "        data=data[['userId','movieId','rating']]\n",
    "        data['rating']=data['rating'].astype('int')\n",
    "        data=data[(data['rating'].isin([1,2,3,4,5]))]\n",
    "        gruopby=pd.DataFrame(data.groupby('userId')['rating'].count())\n",
    "        gruopby['userId']=gruopby.index\n",
    "        data1=gruopby[gruopby['rating']>=20]\n",
    "        data=data[data['userId'].isin (data1['userId'].values.tolist())]\n",
    "        X=data.loc[:,['userId','movieId']]\n",
    "        y=data.loc[:,['rating']]\n",
    "        pivot=data.pivot_table(index=\"movieId\",columns=\"userId\",values=\"rating\")\n",
    "        pivot=pivot.fillna(0)\n",
    "        \n",
    "        return(data,X,y,pivot)\n",
    "\n",
    "        \n"
   ]
  },
  {
   "cell_type": "code",
   "execution_count": 3,
   "id": "1a01737b",
   "metadata": {},
   "outputs": [],
   "source": [
    "import matplotlib.pyplot as plt"
   ]
  },
  {
   "cell_type": "code",
   "execution_count": 8,
   "id": "c8070ea1",
   "metadata": {},
   "outputs": [],
   "source": [
    "Data,X,y,Pivot=dataframe.dataset()"
   ]
  },
  {
   "cell_type": "code",
   "execution_count": 10,
   "id": "b92c7a22",
   "metadata": {},
   "outputs": [
    {
     "data": {
      "text/plain": [
       "<AxesSubplot:>"
      ]
     },
     "execution_count": 10,
     "metadata": {},
     "output_type": "execute_result"
    },
    {
     "data": {
      "image/png": "[encoded data removed]",
      "text/plain": [
       "<Figure size 432x288 with 1 Axes>"
      ]
     },
     "metadata": {
      "needs_background": "light"
     },
     "output_type": "display_data"
    }
   ],
   "source": [
    "Data['rating'].hist()"
   ]
  }
 ],
 "metadata": {
  "kernelspec": {
   "display_name": "Python 3 (ipykernel)",
   "language": "python",
   "name": "python3"
  },
  "language_info": {
   "codemirror_mode": {
    "name": "ipython",
    "version": 3
   },
   "file_extension": ".py",
   "mimetype": "text/x-python",
   "name": "python",
   "nbconvert_exporter": "python",
   "pygments_lexer": "ipython3",
   "version": "3.9.7"
  }
 },
 "nbformat": 4,
 "nbformat_minor": 5
}
